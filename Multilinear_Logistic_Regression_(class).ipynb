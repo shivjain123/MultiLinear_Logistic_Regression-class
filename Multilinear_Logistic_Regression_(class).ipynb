{
  "nbformat": 4,
  "nbformat_minor": 0,
  "metadata": {
    "colab": {
      "name": "Multilinear Logistic Regression (class).ipynb",
      "provenance": [],
      "authorship_tag": "ABX9TyOfKMJP5UTTtwjAZa3hoTL/",
      "include_colab_link": true
    },
    "kernelspec": {
      "name": "python3",
      "display_name": "Python 3"
    },
    "language_info": {
      "name": "python"
    }
  },
  "cells": [
    {
      "cell_type": "markdown",
      "metadata": {
        "id": "view-in-github",
        "colab_type": "text"
      },
      "source": [
        "<a href=\"https://colab.research.google.com/github/shivjain123/MultiLinear_Logistic_Regression-class/blob/master/Multilinear_Logistic_Regression_(class).ipynb\" target=\"_parent\"><img src=\"https://colab.research.google.com/assets/colab-badge.svg\" alt=\"Open In Colab\"/></a>"
      ]
    },
    {
      "cell_type": "code",
      "metadata": {
        "id": "Lj-yuApY6VWs"
      },
      "source": [
        "import pandas as p\n",
        "import plotly.express as px\n",
        "\n",
        "df = p.read_csv(\"https://raw.githubusercontent.com/whitehatjr/datasets/master/pro-c116/data_classification.csv\")\n",
        "\n",
        "hours_slept = df[\"Hours_Slept\"].tolist()\n",
        "hours_studied = df[\"Hours_studied\"].tolist()\n",
        "intial_results = df[\"results\"].tolist()\n",
        "\n",
        "fig = px.scatter(x = hours_slept, y = intial_results)\n",
        "\n",
        "fig.show()"
      ],
      "execution_count": null,
      "outputs": []
    },
    {
      "cell_type": "code",
      "metadata": {
        "id": "AE4G1XOY_7Da"
      },
      "source": [
        "import plotly.graph_objects as go\n",
        "yes_no = []\n",
        "\n",
        "result_list = df[\"results\"].tolist()\n",
        "\n",
        "for r in range(len(result_list)):\n",
        "  if result_list[r] == 1:\n",
        "    yes_no.append(\"green\")\n",
        "  else:\n",
        "    yes_no.append(\"red\")\n",
        "\n",
        "new_fig = go.Figure(go.Scatter(x = hours_studied, y = hours_slept, mode = 'markers', marker = dict(color = yes_no)))\n",
        "\n",
        "new_fig.show()"
      ],
      "execution_count": null,
      "outputs": []
    },
    {
      "cell_type": "code",
      "metadata": {
        "id": "8kcNM7XxB8My"
      },
      "source": [
        "from sklearn.model_selection import train_test_split\n",
        "from sklearn.preprocessing import StandardScaler\n",
        "from sklearn.linear_model import LogisticRegression as lr\n",
        "\n",
        "hours = df[[\"Hours_studied\", \"Hours_Slept\"]]\n",
        "results = df[\"results\"]\n",
        "\n",
        "hours_train, hours_test, results_train, results_test = train_test_split(hours, results, test_size = 0.25, random_state = 0)\n",
        "\n",
        "st = StandardScaler()\n",
        "\n",
        "hours_train = st.fit_transform(hours_train)\n",
        "hours_test = st.fit_transform(hours_test)\n",
        "\n",
        "classifier = lr(random_state = 0)\n",
        "classifier.fit(hours_train, results_train)"
      ],
      "execution_count": null,
      "outputs": []
    },
    {
      "cell_type": "code",
      "metadata": {
        "id": "sWHrPtb1DxFd"
      },
      "source": [
        "from sklearn.metrics import accuracy_score\n",
        "prediction_results = classifier.predict(hours_test)\n",
        "\n",
        "print(f\"The Accuracy Score is {accuracy_score(results_test, prediction_results)}\")"
      ],
      "execution_count": null,
      "outputs": []
    },
    {
      "cell_type": "code",
      "metadata": {
        "id": "0jsGEWJRECR7"
      },
      "source": [
        "slept = float(input(\"Please enter the hours you sleep.\"))\n",
        "studied = float(input(\"Please enter the hours you studied.\"))\n",
        "\n",
        "test = st.transform([[slept, studied]])\n",
        "final_prediction = classifier.predict(test)\n",
        "\n",
        "if final_prediction[0] == 1:\n",
        "  print(\"You will pass the exam!\")\n",
        "else:\n",
        "  print(\"You will not be able to pass the exam.\")"
      ],
      "execution_count": null,
      "outputs": []
    }
  ]
}